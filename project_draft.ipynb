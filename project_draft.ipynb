{
 "cells": [
  {
   "cell_type": "markdown",
   "id": "59a53177-8cae-44ea-9297-9ff8cb808b39",
   "metadata": {
    "jp-MarkdownHeadingCollapsed": true,
    "tags": []
   },
   "source": [
    "#### Project Title\n",
    "\n",
    "- Leslie Cohrt: put their contribution here\n",
    "- Sarah Auther: put their contribution here\n",
    "- Shoshana Medved: put their contribution here"
   ]
  },
  {
   "cell_type": "markdown",
   "id": "07035b74-71fd-4344-8bb4-566529eb7cb6",
   "metadata": {
    "tags": []
   },
   "source": [
    "#### Introduction\n",
    "\n",
    "In this study, we aim to understand how people spoke about ChatGPT on Twitter during the first month of its launch. Through this project, we hope to pinpoint any key differences in responses as ChatGPT became more mainstream. By analyzing a data sample of over 200,000 Tweets from November 30th to December 31st, 2022, we will be able to search for key communication trends among users and recurring beliefs about ChatGPT as an emerging platform. \n",
    "\n",
    "We are interested in discovering how people view ChatGPT based on data from Twitter\n",
    "- Through the lens of computer-mediated communication, how has public opinion of ChatGPT evolved as its usage has become more normalized?  \n",
    "- What generates the most reaction between real people when talking about ChatGPT?"
   ]
  },
  {
   "cell_type": "markdown",
   "id": "c4b3a809-0978-4168-8de5-f6038fb446f9",
   "metadata": {
    "tags": []
   },
   "source": [
    "Detailed description of dataset"
   ]
  },
  {
   "cell_type": "code",
   "execution_count": 2,
   "id": "a3635854-89b7-4904-9fb8-d9e0be7e2d73",
   "metadata": {
    "tags": []
   },
   "outputs": [
    {
     "data": {
      "text/html": [
       "<div>\n",
       "<style scoped>\n",
       "    .dataframe tbody tr th:only-of-type {\n",
       "        vertical-align: middle;\n",
       "    }\n",
       "\n",
       "    .dataframe tbody tr th {\n",
       "        vertical-align: top;\n",
       "    }\n",
       "\n",
       "    .dataframe thead th {\n",
       "        text-align: right;\n",
       "    }\n",
       "</style>\n",
       "<table border=\"1\" class=\"dataframe\">\n",
       "  <thead>\n",
       "    <tr style=\"text-align: right;\">\n",
       "      <th></th>\n",
       "      <th>tweet_id</th>\n",
       "      <th>created_at</th>\n",
       "      <th>like_count</th>\n",
       "      <th>quote_count</th>\n",
       "      <th>reply_count</th>\n",
       "      <th>retweet_count</th>\n",
       "      <th>tweet</th>\n",
       "      <th>country</th>\n",
       "      <th>photo_url</th>\n",
       "      <th>city</th>\n",
       "      <th>country_code</th>\n",
       "    </tr>\n",
       "  </thead>\n",
       "  <tbody>\n",
       "    <tr>\n",
       "      <th>0</th>\n",
       "      <td>1.598010e+18</td>\n",
       "      <td>2022-11-30 18:00:15+00:00</td>\n",
       "      <td>2</td>\n",
       "      <td>0</td>\n",
       "      <td>0</td>\n",
       "      <td>0</td>\n",
       "      <td>ChatGPT: Optimizing Language Models for Dialog...</td>\n",
       "      <td>NaN</td>\n",
       "      <td>NaN</td>\n",
       "      <td>NaN</td>\n",
       "      <td>NaN</td>\n",
       "    </tr>\n",
       "    <tr>\n",
       "      <th>1</th>\n",
       "      <td>1.598010e+18</td>\n",
       "      <td>2022-11-30 18:02:06+00:00</td>\n",
       "      <td>12179</td>\n",
       "      <td>889</td>\n",
       "      <td>1130</td>\n",
       "      <td>3252</td>\n",
       "      <td>Try talking with ChatGPT, our new AI system wh...</td>\n",
       "      <td>NaN</td>\n",
       "      <td>NaN</td>\n",
       "      <td>NaN</td>\n",
       "      <td>NaN</td>\n",
       "    </tr>\n",
       "    <tr>\n",
       "      <th>2</th>\n",
       "      <td>1.598010e+18</td>\n",
       "      <td>2022-11-30 18:02:58+00:00</td>\n",
       "      <td>2</td>\n",
       "      <td>0</td>\n",
       "      <td>0</td>\n",
       "      <td>1</td>\n",
       "      <td>ChatGPT: Optimizing Language Models for Dialog...</td>\n",
       "      <td>NaN</td>\n",
       "      <td>https://pbs.twimg.com/media/Fi1J8HbWAAMv_yi.jpg</td>\n",
       "      <td>NaN</td>\n",
       "      <td>NaN</td>\n",
       "    </tr>\n",
       "    <tr>\n",
       "      <th>3</th>\n",
       "      <td>1.598020e+18</td>\n",
       "      <td>2022-11-30 18:05:58+00:00</td>\n",
       "      <td>561</td>\n",
       "      <td>8</td>\n",
       "      <td>25</td>\n",
       "      <td>66</td>\n",
       "      <td>THRILLED to share that ChatGPT, our new model ...</td>\n",
       "      <td>NaN</td>\n",
       "      <td>https://pbs.twimg.com/media/Fi1Km3WUYAAfzHS.jpg</td>\n",
       "      <td>NaN</td>\n",
       "      <td>NaN</td>\n",
       "    </tr>\n",
       "    <tr>\n",
       "      <th>4</th>\n",
       "      <td>1.598020e+18</td>\n",
       "      <td>2022-11-30 18:06:01+00:00</td>\n",
       "      <td>1</td>\n",
       "      <td>0</td>\n",
       "      <td>0</td>\n",
       "      <td>0</td>\n",
       "      <td>As of 2 minutes ago, @OpenAI released their ne...</td>\n",
       "      <td>NaN</td>\n",
       "      <td>NaN</td>\n",
       "      <td>NaN</td>\n",
       "      <td>NaN</td>\n",
       "    </tr>\n",
       "  </tbody>\n",
       "</table>\n",
       "</div>"
      ],
      "text/plain": [
       "       tweet_id                 created_at  like_count  quote_count  \\\n",
       "0  1.598010e+18  2022-11-30 18:00:15+00:00           2            0   \n",
       "1  1.598010e+18  2022-11-30 18:02:06+00:00       12179          889   \n",
       "2  1.598010e+18  2022-11-30 18:02:58+00:00           2            0   \n",
       "3  1.598020e+18  2022-11-30 18:05:58+00:00         561            8   \n",
       "4  1.598020e+18  2022-11-30 18:06:01+00:00           1            0   \n",
       "\n",
       "   reply_count  retweet_count  \\\n",
       "0            0              0   \n",
       "1         1130           3252   \n",
       "2            0              1   \n",
       "3           25             66   \n",
       "4            0              0   \n",
       "\n",
       "                                               tweet country  \\\n",
       "0  ChatGPT: Optimizing Language Models for Dialog...     NaN   \n",
       "1  Try talking with ChatGPT, our new AI system wh...     NaN   \n",
       "2  ChatGPT: Optimizing Language Models for Dialog...     NaN   \n",
       "3  THRILLED to share that ChatGPT, our new model ...     NaN   \n",
       "4  As of 2 minutes ago, @OpenAI released their ne...     NaN   \n",
       "\n",
       "                                         photo_url city country_code  \n",
       "0                                              NaN  NaN          NaN  \n",
       "1                                              NaN  NaN          NaN  \n",
       "2  https://pbs.twimg.com/media/Fi1J8HbWAAMv_yi.jpg  NaN          NaN  \n",
       "3  https://pbs.twimg.com/media/Fi1Km3WUYAAfzHS.jpg  NaN          NaN  \n",
       "4                                              NaN  NaN          NaN  "
      ]
     },
     "execution_count": 2,
     "metadata": {},
     "output_type": "execute_result"
    }
   ],
   "source": [
    "import pandas as pd\n",
    "\n",
    "df = pd.read_csv(\"chatgpt.data.csv\")\n",
    "df.head()"
   ]
  },
  {
   "cell_type": "code",
   "execution_count": 3,
   "id": "f69b2d72-2852-41ee-b792-14e6b8b87e0e",
   "metadata": {
    "tags": []
   },
   "outputs": [
    {
     "data": {
      "text/html": [
       "<div>\n",
       "<style scoped>\n",
       "    .dataframe tbody tr th:only-of-type {\n",
       "        vertical-align: middle;\n",
       "    }\n",
       "\n",
       "    .dataframe tbody tr th {\n",
       "        vertical-align: top;\n",
       "    }\n",
       "\n",
       "    .dataframe thead th {\n",
       "        text-align: right;\n",
       "    }\n",
       "</style>\n",
       "<table border=\"1\" class=\"dataframe\">\n",
       "  <thead>\n",
       "    <tr style=\"text-align: right;\">\n",
       "      <th></th>\n",
       "      <th>tweet_id</th>\n",
       "      <th>like_count</th>\n",
       "      <th>quote_count</th>\n",
       "      <th>reply_count</th>\n",
       "      <th>retweet_count</th>\n",
       "    </tr>\n",
       "  </thead>\n",
       "  <tbody>\n",
       "    <tr>\n",
       "      <th>count</th>\n",
       "      <td>1.201360e+05</td>\n",
       "      <td>120136.000000</td>\n",
       "      <td>120136.000000</td>\n",
       "      <td>120136.000000</td>\n",
       "      <td>120136.000000</td>\n",
       "    </tr>\n",
       "    <tr>\n",
       "      <th>mean</th>\n",
       "      <td>1.602453e+18</td>\n",
       "      <td>30.716463</td>\n",
       "      <td>0.716072</td>\n",
       "      <td>2.120688</td>\n",
       "      <td>4.155083</td>\n",
       "    </tr>\n",
       "    <tr>\n",
       "      <th>std</th>\n",
       "      <td>2.985152e+15</td>\n",
       "      <td>658.769995</td>\n",
       "      <td>19.037848</td>\n",
       "      <td>34.355344</td>\n",
       "      <td>85.684421</td>\n",
       "    </tr>\n",
       "    <tr>\n",
       "      <th>min</th>\n",
       "      <td>1.598010e+18</td>\n",
       "      <td>1.000000</td>\n",
       "      <td>0.000000</td>\n",
       "      <td>0.000000</td>\n",
       "      <td>0.000000</td>\n",
       "    </tr>\n",
       "    <tr>\n",
       "      <th>25%</th>\n",
       "      <td>1.600020e+18</td>\n",
       "      <td>1.000000</td>\n",
       "      <td>0.000000</td>\n",
       "      <td>0.000000</td>\n",
       "      <td>0.000000</td>\n",
       "    </tr>\n",
       "    <tr>\n",
       "      <th>50%</th>\n",
       "      <td>1.601650e+18</td>\n",
       "      <td>2.000000</td>\n",
       "      <td>0.000000</td>\n",
       "      <td>0.000000</td>\n",
       "      <td>0.000000</td>\n",
       "    </tr>\n",
       "    <tr>\n",
       "      <th>75%</th>\n",
       "      <td>1.604640e+18</td>\n",
       "      <td>6.000000</td>\n",
       "      <td>0.000000</td>\n",
       "      <td>1.000000</td>\n",
       "      <td>1.000000</td>\n",
       "    </tr>\n",
       "    <tr>\n",
       "      <th>max</th>\n",
       "      <td>1.609340e+18</td>\n",
       "      <td>119321.000000</td>\n",
       "      <td>4598.000000</td>\n",
       "      <td>5184.000000</td>\n",
       "      <td>10593.000000</td>\n",
       "    </tr>\n",
       "  </tbody>\n",
       "</table>\n",
       "</div>"
      ],
      "text/plain": [
       "           tweet_id     like_count    quote_count    reply_count  \\\n",
       "count  1.201360e+05  120136.000000  120136.000000  120136.000000   \n",
       "mean   1.602453e+18      30.716463       0.716072       2.120688   \n",
       "std    2.985152e+15     658.769995      19.037848      34.355344   \n",
       "min    1.598010e+18       1.000000       0.000000       0.000000   \n",
       "25%    1.600020e+18       1.000000       0.000000       0.000000   \n",
       "50%    1.601650e+18       2.000000       0.000000       0.000000   \n",
       "75%    1.604640e+18       6.000000       0.000000       1.000000   \n",
       "max    1.609340e+18  119321.000000    4598.000000    5184.000000   \n",
       "\n",
       "       retweet_count  \n",
       "count  120136.000000  \n",
       "mean        4.155083  \n",
       "std        85.684421  \n",
       "min         0.000000  \n",
       "25%         0.000000  \n",
       "50%         0.000000  \n",
       "75%         1.000000  \n",
       "max     10593.000000  "
      ]
     },
     "execution_count": 3,
     "metadata": {},
     "output_type": "execute_result"
    }
   ],
   "source": [
    "# preprocessing\n",
    "\n",
    "import numpy as np\n",
    "\n",
    "df1 = df.fillna(value=0)\n",
    "df1 = df1.loc[df1[\"like_count\"] != 0]\n",
    "\n",
    "df1.describe()"
   ]
  },
  {
   "cell_type": "markdown",
   "id": "cbcbd9f8-9f78-44d8-b302-56ccc0b231a2",
   "metadata": {},
   "source": [
    "Our research questions are about shared public opinion and about opinions that generate conversation and response. Tweets with no likes are not indicative of opinions shared by many and do not generate response, so we removed them from the dataset."
   ]
  },
  {
   "cell_type": "code",
   "execution_count": 4,
   "id": "088888d5-0a2f-4d0d-928e-93ba50e46c51",
   "metadata": {
    "tags": []
   },
   "outputs": [
    {
     "name": "stdout",
     "output_type": "stream",
     "text": [
      "Collecting nltk\n",
      "  Using cached nltk-3.8.1-py3-none-any.whl (1.5 MB)\n",
      "Requirement already satisfied: tqdm in /opt/conda/lib/python3.10/site-packages (from nltk) (4.65.0)\n",
      "Requirement already satisfied: joblib in /opt/conda/lib/python3.10/site-packages (from nltk) (1.2.0)\n",
      "Collecting click\n",
      "  Using cached click-8.1.3-py3-none-any.whl (96 kB)\n",
      "Collecting regex>=2021.8.3\n",
      "  Downloading regex-2023.6.3-cp310-cp310-manylinux_2_17_x86_64.manylinux2014_x86_64.whl (770 kB)\n",
      "\u001b[2K     \u001b[90m━━━━━━━━━━━━━━━━━━━━━━━━━━━━━━━━━━━━━━\u001b[0m \u001b[32m770.4/770.4 kB\u001b[0m \u001b[31m17.1 MB/s\u001b[0m eta \u001b[36m0:00:00\u001b[0ma \u001b[36m0:00:01\u001b[0m\n",
      "\u001b[?25hInstalling collected packages: regex, click, nltk\n",
      "Successfully installed click-8.1.3 nltk-3.8.1 regex-2023.6.3\n"
     ]
    },
    {
     "name": "stderr",
     "output_type": "stream",
     "text": [
      "[nltk_data] Downloading package punkt to /home/jovyan/nltk_data...\n",
      "[nltk_data]   Package punkt is already up-to-date!\n",
      "[nltk_data] Downloading package stopwords to /home/jovyan/nltk_data...\n",
      "[nltk_data]   Package stopwords is already up-to-date!\n"
     ]
    },
    {
     "name": "stdout",
     "output_type": "stream",
     "text": [
      "Collecting textblob\n",
      "  Downloading textblob-0.17.1-py2.py3-none-any.whl (636 kB)\n",
      "\u001b[2K     \u001b[90m━━━━━━━━━━━━━━━━━━━━━━━━━━━━━━━━━━━━━━\u001b[0m \u001b[32m636.8/636.8 kB\u001b[0m \u001b[31m37.2 MB/s\u001b[0m eta \u001b[36m0:00:00\u001b[0m\n",
      "\u001b[?25hRequirement already satisfied: nltk>=3.1 in /opt/conda/lib/python3.10/site-packages (from textblob) (3.8.1)\n",
      "Requirement already satisfied: joblib in /opt/conda/lib/python3.10/site-packages (from nltk>=3.1->textblob) (1.2.0)\n",
      "Requirement already satisfied: tqdm in /opt/conda/lib/python3.10/site-packages (from nltk>=3.1->textblob) (4.65.0)\n",
      "Requirement already satisfied: click in /opt/conda/lib/python3.10/site-packages (from nltk>=3.1->textblob) (8.1.3)\n",
      "Requirement already satisfied: regex>=2021.8.3 in /opt/conda/lib/python3.10/site-packages (from nltk>=3.1->textblob) (2023.6.3)\n",
      "Installing collected packages: textblob\n",
      "Successfully installed textblob-0.17.1\n"
     ]
    }
   ],
   "source": [
    "!pip install nltk\n",
    "\n",
    "import nltk\n",
    "\n",
    "nltk.download('punkt')\n",
    "from nltk.tokenize import word_tokenize, sent_tokenize\n",
    "\n",
    "nltk.download('stopwords')\n",
    "from nltk.corpus import stopwords\n",
    "stop_words = set(stopwords.words('english'))\n",
    "\n",
    "!pip install textblob\n",
    "from textblob import TextBlob\n",
    "\n",
    "import re"
   ]
  },
  {
   "cell_type": "code",
   "execution_count": null,
   "id": "71af7cf8-6db8-4cbb-ad0e-1ccc51aceaed",
   "metadata": {
    "tags": []
   },
   "outputs": [],
   "source": [
    "# Word tokenization    \n",
    "text = df1['tweet'].apply(word_tokenize)\n"
   ]
  },
  {
   "cell_type": "code",
   "execution_count": null,
   "id": "fa0f8610-c051-404a-bc54-27b6575c7b9e",
   "metadata": {
    "tags": []
   },
   "outputs": [],
   "source": [
    "print(text)"
   ]
  },
  {
   "cell_type": "code",
   "execution_count": null,
   "id": "548276e3-2eb0-476c-9747-bf4f5f46917a",
   "metadata": {
    "tags": []
   },
   "outputs": [],
   "source": [
    "import string"
   ]
  },
  {
   "cell_type": "code",
   "execution_count": null,
   "id": "2c6a6fba-84cb-471f-a744-474efc61e363",
   "metadata": {
    "tags": []
   },
   "outputs": [],
   "source": [
    "stop_words = set(stopwords.words('english'))\n",
    "\n",
    "for column in df1.columns:\n",
    "    if df1[column].dtype == 'object': # check if the column contains text data\n",
    "        df1[column] = df1[column].apply(lambda x: ' '.join([word for word in str(x).split() if word.lower() not in stop_words]))"
   ]
  },
  {
   "cell_type": "code",
   "execution_count": null,
   "id": "27a912b8-1756-4fc0-aed6-39abfa3e845f",
   "metadata": {
    "tags": []
   },
   "outputs": [],
   "source": [
    "df1.head()"
   ]
  },
  {
   "cell_type": "code",
   "execution_count": null,
   "id": "724754dd-7f16-4e3c-aad4-f1ca494c1f96",
   "metadata": {
    "tags": []
   },
   "outputs": [],
   "source": [
    "from nltk.sentiment.vader import SentimentIntensityAnalyzer\n",
    "sid = SentimentIntensityAnalyzer()"
   ]
  },
  {
   "cell_type": "code",
   "execution_count": null,
   "id": "09314d14-bc1d-4da9-8e86-3bdc88c918b3",
   "metadata": {
    "tags": []
   },
   "outputs": [],
   "source": [
    "def get_sentiment(tweet):\n",
    "    sentiment = sid.polarity_scores(tweet)\n",
    "    return sentiment['compound']\n",
    "    \n",
    "df1['sentiment'] = df1['tweet'].apply(get_sentiment)"
   ]
  },
  {
   "cell_type": "code",
   "execution_count": null,
   "id": "d976bafd-fdd4-4eea-83fe-9e3ff141ba5e",
   "metadata": {
    "tags": []
   },
   "outputs": [],
   "source": [
    "df1['sentiment']"
   ]
  },
  {
   "cell_type": "code",
   "execution_count": null,
   "id": "ed77b8c8-cc21-4b88-8c9a-3d32ed0bfde7",
   "metadata": {
    "tags": []
   },
   "outputs": [],
   "source": [
    "df1.describe()"
   ]
  },
  {
   "cell_type": "code",
   "execution_count": null,
   "id": "5d2f1271-61bb-4916-bae2-c1c43751c13e",
   "metadata": {
    "tags": []
   },
   "outputs": [],
   "source": [
    "postive_tweets = df1[df1['sentiment'] > 0]\n",
    "negative_tweets = df1[df1['sentiment'] < 0]\n",
    "neutral_tweets = df1[df1['sentiment'] == 0]\n",
    "\n",
    "postive_percentage = len(postive_tweets) / len(df1) * 100\n",
    "negative_percentage = len(negative_tweets) / len(df1) * 100\n",
    "neutral_percentage = len(neutral_tweets) / len(df1) * 100"
   ]
  },
  {
   "cell_type": "code",
   "execution_count": null,
   "id": "d67ea492-65f2-4130-a00b-094c4001f3fc",
   "metadata": {
    "tags": []
   },
   "outputs": [],
   "source": [
    "import matplotlib.pyplot as plt\n",
    "import seaborn as sns"
   ]
  },
  {
   "cell_type": "markdown",
   "id": "0cd73e18-e17e-4eee-8d60-43fe80999091",
   "metadata": {
    "tags": []
   },
   "source": [
    "#### How have people's opinions of ChatGPT evolved as its usage has become more normalized?\n",
    "- sentiment analysis\n",
    "- dependency parsing"
   ]
  },
  {
   "cell_type": "code",
   "execution_count": null,
   "id": "51d596b7-fc01-40d4-bb97-5f72b1f60f2f",
   "metadata": {
    "tags": []
   },
   "outputs": [],
   "source": [
    "df1.sort_values(by=['created_at'], ascending=True, inplace=True)\n",
    "\n",
    "df1.head()"
   ]
  },
  {
   "cell_type": "code",
   "execution_count": null,
   "id": "ad6de74c-7755-459a-a62e-cc68a86ef4ef",
   "metadata": {},
   "outputs": [],
   "source": []
  },
  {
   "cell_type": "markdown",
   "id": "08482200-256d-4297-95ff-f420aa3d3c2e",
   "metadata": {
    "tags": []
   },
   "source": [
    "data = df1\n",
    "\n",
    "sns.scatterplot(x=\"created_at\", y=\"sentiment\", hue=\"sentiment\", data=data)\n",
    "plt.title(\"Sentiment Analysis Over Time\")\n",
    "plt.xlabel(\"Date\")\n",
    "plt.ylabel(\"Sentiment\")\n",
    "plt.legend(title=\"Sentiment\")\n",
    "plt.show()"
   ]
  },
  {
   "cell_type": "markdown",
   "id": "764b5d64-bd35-40dc-ad84-84f12aca3fd0",
   "metadata": {},
   "source": [
    "### what we gotta do\n",
    "- sort by date created, then find sentiment averages over time"
   ]
  },
  {
   "cell_type": "markdown",
   "id": "b472ac5b-fad0-414d-a2bc-7733323a2f3e",
   "metadata": {
    "tags": []
   },
   "source": [
    "#### What generates the most reaction between real people when talking about ChatGPT?\n",
    "- sentiment analysis"
   ]
  },
  {
   "cell_type": "code",
   "execution_count": null,
   "id": "7c34f23c-236c-4342-aa85-c64d7bed9ced",
   "metadata": {
    "tags": []
   },
   "outputs": [],
   "source": [
    "#reducing the data set to the 250 tweets with the most interaction based on a combination of likes, retweets, quotes, and replies.\n",
    "\n",
    "df_r2 = df1.loc[(df1[\"like_count\"] >299) & (df1[\"reply_count\"] >49) & (df1[\"retweet_count\"] >49) & (df1[\"quote_count\"] >24)]\n",
    "\n",
    "df_r2.describe()"
   ]
  },
  {
   "cell_type": "code",
   "execution_count": null,
   "id": "7634a8ee-df87-4dbc-bfac-d7db9b583977",
   "metadata": {
    "tags": []
   },
   "outputs": [],
   "source": [
    "postive_top_tweets = df_r2[df_r2['sentiment'] > 0]\n",
    "negative_top_tweets = df_r2[df_r2['sentiment'] < 0]\n",
    "neutral_top_tweets = df_r2[df_r2['sentiment'] == 0]\n",
    "\n",
    "postive_percentage_top = len(postive_top_tweets) / len(df_r2) * 100\n",
    "negative_percentage_top = len(negative_top_tweets) / len(df_r2) * 100\n",
    "neutral_percentage_top = len(neutral_top_tweets) / len(df_r2) * 100"
   ]
  },
  {
   "cell_type": "code",
   "execution_count": null,
   "id": "f789bb33-624c-4bb0-86e9-f6e2892fdc20",
   "metadata": {
    "tags": []
   },
   "outputs": [],
   "source": [
    "df_r2"
   ]
  },
  {
   "cell_type": "code",
   "execution_count": null,
   "id": "e1590eed-7541-4f22-9fa3-70335c08ea5a",
   "metadata": {
    "tags": []
   },
   "outputs": [],
   "source": [
    "sentiment_labels_2 = ['Positive', 'Negative', 'Neutral']\n",
    "sentiment_percentages_2 = [postive_percentage_top, negative_percentage_top, neutral_percentage_top]\n",
    "\n",
    "plt.bar(sentiment_labels_2, sentiment_percentages_2)\n",
    "plt.xlabel('Sentiment')\n",
    "plt.ylabel('Percentage')\n",
    "plt.title('Sentiment Analysis Results of Top 250 Tweets')\n",
    "\n",
    "plt.show()"
   ]
  },
  {
   "cell_type": "code",
   "execution_count": null,
   "id": "7ad6b055-7396-487b-8b09-1d7058254268",
   "metadata": {
    "tags": []
   },
   "outputs": [],
   "source": [
    "df = pd.DataFrame9([postive_percentage_top, negative_percentage_top, neutral_percentage_top], index=['Positive Sentiment', 'Negative Sentiment', 'Neutral'], row=['Sentiment Analysis Results of Top 250 Tweets'])\n",
    "df.plot(kind='pie', subplots=True, figsize=(8, 8))\n",
    "plt.show"
   ]
  },
  {
   "cell_type": "markdown",
   "id": "595d29ff-b90c-46e9-8b09-90ddbc1f616b",
   "metadata": {},
   "source": [
    "### what we gotta do part 2\n",
    "- word cloud for the whole dataset and the df_r2 -> compare differences- are there any buzzwords that get more attention"
   ]
  },
  {
   "cell_type": "markdown",
   "id": "0ef0ebea-2160-4b18-a3ae-14c3498d72e8",
   "metadata": {},
   "source": [
    "### results and whatnot\n",
    "- doesn't vary from the full set"
   ]
  },
  {
   "cell_type": "code",
   "execution_count": null,
   "id": "1fbc00ed-9d1b-4dde-847f-5e419f5e1b78",
   "metadata": {},
   "outputs": [],
   "source": []
  },
  {
   "cell_type": "code",
   "execution_count": null,
   "id": "86c72132-f97b-4f32-a0c7-7fdb52238922",
   "metadata": {},
   "outputs": [],
   "source": []
  }
 ],
 "metadata": {
  "kernelspec": {
   "display_name": "Python 3 (ipykernel)",
   "language": "python",
   "name": "python3"
  },
  "language_info": {
   "codemirror_mode": {
    "name": "ipython",
    "version": 3
   },
   "file_extension": ".py",
   "mimetype": "text/x-python",
   "name": "python",
   "nbconvert_exporter": "python",
   "pygments_lexer": "ipython3",
   "version": "3.10.9"
  }
 },
 "nbformat": 4,
 "nbformat_minor": 5
}
